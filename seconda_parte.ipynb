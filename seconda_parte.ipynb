{
 "cells": [
  {
   "cell_type": "markdown",
   "metadata": {},
   "source": [
    "# Creazione matrici per ogni sottopercorso in base alla mossa"
   ]
  },
  {
   "cell_type": "code",
   "execution_count": 1,
   "metadata": {},
   "outputs": [
    {
     "data": {
      "text/html": [
       "<div>\n",
       "<style scoped>\n",
       "    .dataframe tbody tr th:only-of-type {\n",
       "        vertical-align: middle;\n",
       "    }\n",
       "\n",
       "    .dataframe tbody tr th {\n",
       "        vertical-align: top;\n",
       "    }\n",
       "\n",
       "    .dataframe thead th {\n",
       "        text-align: right;\n",
       "    }\n",
       "</style>\n",
       "<table border=\"1\" class=\"dataframe\">\n",
       "  <thead>\n",
       "    <tr style=\"text-align: right;\">\n",
       "      <th></th>\n",
       "      <th>Initial Solution</th>\n",
       "      <th>Moves</th>\n",
       "    </tr>\n",
       "  </thead>\n",
       "  <tbody>\n",
       "    <tr>\n",
       "      <th>0</th>\n",
       "      <td>[['D0', 'C21', 'C26', 'D0'], ['D0', 'C65', 'C6...</td>\n",
       "      <td>['null', 'null', 'DemandBasedDestroyCustomer',...</td>\n",
       "    </tr>\n",
       "    <tr>\n",
       "      <th>1</th>\n",
       "      <td>[['D0', 'C21', 'C26', 'D0'], ['D0', 'C65', 'C6...</td>\n",
       "      <td>['null', 'null', 'ShawDestroyCustomer', 'Greed...</td>\n",
       "    </tr>\n",
       "    <tr>\n",
       "      <th>2</th>\n",
       "      <td>[['D0', 'C21', 'C26', 'D0'], ['D0', 'C65', 'C6...</td>\n",
       "      <td>['null', 'null', 'WorstTimeDestroyCustomer', '...</td>\n",
       "    </tr>\n",
       "    <tr>\n",
       "      <th>3</th>\n",
       "      <td>[['D0', 'C21', 'C26', 'D0'], ['D0', 'C65', 'C6...</td>\n",
       "      <td>['null', 'null', 'GreedyRouteRemoval', 'Greedy...</td>\n",
       "    </tr>\n",
       "    <tr>\n",
       "      <th>4</th>\n",
       "      <td>[['D0', 'C21', 'C26', 'D0'], ['D0', 'C65', 'C6...</td>\n",
       "      <td>['RandomDestroyStation', 'ProbabilisticBestRep...</td>\n",
       "    </tr>\n",
       "  </tbody>\n",
       "</table>\n",
       "</div>"
      ],
      "text/plain": [
       "                                    Initial Solution  \\\n",
       "0  [['D0', 'C21', 'C26', 'D0'], ['D0', 'C65', 'C6...   \n",
       "1  [['D0', 'C21', 'C26', 'D0'], ['D0', 'C65', 'C6...   \n",
       "2  [['D0', 'C21', 'C26', 'D0'], ['D0', 'C65', 'C6...   \n",
       "3  [['D0', 'C21', 'C26', 'D0'], ['D0', 'C65', 'C6...   \n",
       "4  [['D0', 'C21', 'C26', 'D0'], ['D0', 'C65', 'C6...   \n",
       "\n",
       "                                               Moves  \n",
       "0  ['null', 'null', 'DemandBasedDestroyCustomer',...  \n",
       "1  ['null', 'null', 'ShawDestroyCustomer', 'Greed...  \n",
       "2  ['null', 'null', 'WorstTimeDestroyCustomer', '...  \n",
       "3  ['null', 'null', 'GreedyRouteRemoval', 'Greedy...  \n",
       "4  ['RandomDestroyStation', 'ProbabilisticBestRep...  "
      ]
     },
     "execution_count": 1,
     "metadata": {},
     "output_type": "execute_result"
    }
   ],
   "source": [
    "import pandas as pd\n",
    "import numpy as np\n",
    "\n",
    "pd.set_option('display.max_columns', None)\n",
    "path = \"DB-Output_original.csv\"\n",
    "\n",
    "data = pd.read_csv(path)\n",
    "\n",
    "#data = data[:9000] # posso ridurre da 35mila a 9mila senza perdere i luoghi, velocizzando l'esecuzione\n",
    "data = data.loc[:, ['Initial Solution', 'Moves']]\n",
    "\n",
    "data.head(5)"
   ]
  },
  {
   "cell_type": "markdown",
   "metadata": {},
   "source": [
    "# Lista delle mosse disponibili e applicate\n",
    "\n",
    "A partire dal dataframe iniziale, si crea una lista chiamata \"mv\", dove al suo interno sono presenti tutte le diverse mosse applicate e riportate nella tabella."
   ]
  },
  {
   "cell_type": "code",
   "execution_count": 2,
   "metadata": {},
   "outputs": [
    {
     "name": "stdout",
     "output_type": "stream",
     "text": [
      "Lista delle 16 possibili e diverse mosse: \n",
      " ['TimeBasedDestroyCustomer', 'DemandBasedDestroyCustomer', 'ProximityBasedDestroyCustomer', 'DeterministicBestRepairStation', 'ZoneDestroyCustomer', 'GreedyRepairCustomer', 'ProbabilisticBestRepairStation', 'WorstDistanceDestroyCustomer', 'RandomDestroyStation', 'ProbabilisticWorstRemovalCustomer', 'GreedyRouteRemoval', 'LongestWaitingTimeDestroyStation', 'ShawDestroyCustomer', 'RandomRouteDestroyCustomer', 'GreedyDestroyCustomer', 'WorstTimeDestroyCustomer']\n"
     ]
    }
   ],
   "source": [
    "mv = data[\"Moves\"]\n",
    "moves = []\n",
    "for row in mv:\n",
    "    for elem in row.split(\"', '\"):\n",
    "        moves.append(elem)\n",
    "\n",
    "for i in range(len(moves)):\n",
    "    moves[i] = moves[i].replace(\"['\",\"\")\n",
    "    moves[i] = moves[i].replace(\"']\",\"\")\n",
    "\n",
    "to_remove = \"null\"\n",
    "moves = list(filter(lambda x: x != to_remove, moves))\n",
    "\n",
    "moves=list(set(moves))\n",
    "\n",
    "print(\"Lista delle\", len(moves), \"possibili e diverse mosse: \\n\", moves)"
   ]
  },
  {
   "cell_type": "code",
   "execution_count": 3,
   "metadata": {},
   "outputs": [
    {
     "name": "stderr",
     "output_type": "stream",
     "text": [
      "/var/folders/_t/_x_rzsrx5vd2_mn90dgnz43h0000gn/T/ipykernel_75096/2851963077.py:1: FutureWarning: The default value of regex will change from True to False in a future version. In addition, single character regular expressions will *not* be treated as literal strings when regex=True.\n",
      "  data[\"Moves\"] = data[\"Moves\"].str.replace(\"[\",\"\")\n",
      "/var/folders/_t/_x_rzsrx5vd2_mn90dgnz43h0000gn/T/ipykernel_75096/2851963077.py:2: FutureWarning: The default value of regex will change from True to False in a future version. In addition, single character regular expressions will *not* be treated as literal strings when regex=True.\n",
      "  data[\"Moves\"] = data[\"Moves\"].str.replace(\"]\",\"\")\n"
     ]
    },
    {
     "data": {
      "text/html": [
       "<div>\n",
       "<style scoped>\n",
       "    .dataframe tbody tr th:only-of-type {\n",
       "        vertical-align: middle;\n",
       "    }\n",
       "\n",
       "    .dataframe tbody tr th {\n",
       "        vertical-align: top;\n",
       "    }\n",
       "\n",
       "    .dataframe thead th {\n",
       "        text-align: right;\n",
       "    }\n",
       "</style>\n",
       "<table border=\"1\" class=\"dataframe\">\n",
       "  <thead>\n",
       "    <tr style=\"text-align: right;\">\n",
       "      <th></th>\n",
       "      <th>Initial Solution</th>\n",
       "      <th>Moves</th>\n",
       "    </tr>\n",
       "  </thead>\n",
       "  <tbody>\n",
       "    <tr>\n",
       "      <th>0</th>\n",
       "      <td>[['D0', 'C21', 'C26', 'D0'], ['D0', 'C65', 'C6...</td>\n",
       "      <td>null, null, DemandBasedDestroyCustomer, Greedy...</td>\n",
       "    </tr>\n",
       "    <tr>\n",
       "      <th>1</th>\n",
       "      <td>[['D0', 'C21', 'C26', 'D0'], ['D0', 'C65', 'C6...</td>\n",
       "      <td>null, null, ShawDestroyCustomer, GreedyRepairC...</td>\n",
       "    </tr>\n",
       "    <tr>\n",
       "      <th>2</th>\n",
       "      <td>[['D0', 'C21', 'C26', 'D0'], ['D0', 'C65', 'C6...</td>\n",
       "      <td>null, null, WorstTimeDestroyCustomer, GreedyRe...</td>\n",
       "    </tr>\n",
       "    <tr>\n",
       "      <th>3</th>\n",
       "      <td>[['D0', 'C21', 'C26', 'D0'], ['D0', 'C65', 'C6...</td>\n",
       "      <td>null, null, GreedyRouteRemoval, GreedyRepairCu...</td>\n",
       "    </tr>\n",
       "    <tr>\n",
       "      <th>4</th>\n",
       "      <td>[['D0', 'C21', 'C26', 'D0'], ['D0', 'C65', 'C6...</td>\n",
       "      <td>RandomDestroyStation, ProbabilisticBestRepairS...</td>\n",
       "    </tr>\n",
       "  </tbody>\n",
       "</table>\n",
       "</div>"
      ],
      "text/plain": [
       "                                    Initial Solution  \\\n",
       "0  [['D0', 'C21', 'C26', 'D0'], ['D0', 'C65', 'C6...   \n",
       "1  [['D0', 'C21', 'C26', 'D0'], ['D0', 'C65', 'C6...   \n",
       "2  [['D0', 'C21', 'C26', 'D0'], ['D0', 'C65', 'C6...   \n",
       "3  [['D0', 'C21', 'C26', 'D0'], ['D0', 'C65', 'C6...   \n",
       "4  [['D0', 'C21', 'C26', 'D0'], ['D0', 'C65', 'C6...   \n",
       "\n",
       "                                               Moves  \n",
       "0  null, null, DemandBasedDestroyCustomer, Greedy...  \n",
       "1  null, null, ShawDestroyCustomer, GreedyRepairC...  \n",
       "2  null, null, WorstTimeDestroyCustomer, GreedyRe...  \n",
       "3  null, null, GreedyRouteRemoval, GreedyRepairCu...  \n",
       "4  RandomDestroyStation, ProbabilisticBestRepairS...  "
      ]
     },
     "execution_count": 3,
     "metadata": {},
     "output_type": "execute_result"
    }
   ],
   "source": [
    "data[\"Moves\"] = data[\"Moves\"].str.replace(\"[\",\"\")\n",
    "data[\"Moves\"] = data[\"Moves\"].str.replace(\"]\",\"\")\n",
    "data[\"Moves\"] = data[\"Moves\"].str.replace(\"'\",\"\")\n",
    "data.head(5)"
   ]
  },
  {
   "cell_type": "code",
   "execution_count": 4,
   "metadata": {},
   "outputs": [
    {
     "data": {
      "text/html": [
       "<div>\n",
       "<style scoped>\n",
       "    .dataframe tbody tr th:only-of-type {\n",
       "        vertical-align: middle;\n",
       "    }\n",
       "\n",
       "    .dataframe tbody tr th {\n",
       "        vertical-align: top;\n",
       "    }\n",
       "\n",
       "    .dataframe thead th {\n",
       "        text-align: right;\n",
       "    }\n",
       "</style>\n",
       "<table border=\"1\" class=\"dataframe\">\n",
       "  <thead>\n",
       "    <tr style=\"text-align: right;\">\n",
       "      <th></th>\n",
       "      <th>Initial Solution</th>\n",
       "      <th>Moves</th>\n",
       "    </tr>\n",
       "  </thead>\n",
       "  <tbody>\n",
       "    <tr>\n",
       "      <th>3</th>\n",
       "      <td>[['D0', 'C21', 'C26', 'D0'], ['D0', 'C65', 'C6...</td>\n",
       "      <td>null, null, GreedyRouteRemoval, GreedyRepairCu...</td>\n",
       "    </tr>\n",
       "    <tr>\n",
       "      <th>17</th>\n",
       "      <td>[['D0', 'C61', 'D0'], ['D0', 'C24', 'C50', 'D0...</td>\n",
       "      <td>null, null, GreedyRouteRemoval, GreedyRepairCu...</td>\n",
       "    </tr>\n",
       "    <tr>\n",
       "      <th>19</th>\n",
       "      <td>[['D0', 'C61', 'D0'], ['D0', 'C24', 'C50', 'D0...</td>\n",
       "      <td>RandomDestroyStation, DeterministicBestRepairS...</td>\n",
       "    </tr>\n",
       "    <tr>\n",
       "      <th>26</th>\n",
       "      <td>[['D0', 'C24', 'D0'], ['D0', 'C26', 'C25', 'D0...</td>\n",
       "      <td>null, null, GreedyRouteRemoval, GreedyRepairCu...</td>\n",
       "    </tr>\n",
       "    <tr>\n",
       "      <th>32</th>\n",
       "      <td>[['D0', 'C26', 'C25', 'D0'], ['D0', 'C91', 'C6...</td>\n",
       "      <td>null, null, GreedyRouteRemoval, GreedyRepairCu...</td>\n",
       "    </tr>\n",
       "    <tr>\n",
       "      <th>...</th>\n",
       "      <td>...</td>\n",
       "      <td>...</td>\n",
       "    </tr>\n",
       "    <tr>\n",
       "      <th>35369</th>\n",
       "      <td>[['D0', 'C96', 'C67', 'C24', 'D0'], ['D0', 'C5...</td>\n",
       "      <td>null, null, GreedyRouteRemoval, GreedyRepairCu...</td>\n",
       "    </tr>\n",
       "    <tr>\n",
       "      <th>35380</th>\n",
       "      <td>[['D0', 'C1', 'C2', 'C5', 'C21', 'C24', 'C29',...</td>\n",
       "      <td>RandomDestroyStation, DeterministicBestRepairS...</td>\n",
       "    </tr>\n",
       "    <tr>\n",
       "      <th>35381</th>\n",
       "      <td>[['D0', 'C1', 'C2', 'C5', 'C14', 'C25', 'C21',...</td>\n",
       "      <td>null, null, GreedyRouteRemoval, GreedyRepairCu...</td>\n",
       "    </tr>\n",
       "    <tr>\n",
       "      <th>35385</th>\n",
       "      <td>[['D0', 'C5', 'C2', 'C1', 'C14', 'C25', 'C21',...</td>\n",
       "      <td>RandomDestroyStation, DeterministicBestRepairS...</td>\n",
       "    </tr>\n",
       "    <tr>\n",
       "      <th>35386</th>\n",
       "      <td>[['D0', 'C5', 'C2', 'C1', 'C14', 'C25', 'C21',...</td>\n",
       "      <td>null, null, GreedyRouteRemoval, GreedyRepairCu...</td>\n",
       "    </tr>\n",
       "  </tbody>\n",
       "</table>\n",
       "<p>3199 rows × 2 columns</p>\n",
       "</div>"
      ],
      "text/plain": [
       "                                        Initial Solution  \\\n",
       "3      [['D0', 'C21', 'C26', 'D0'], ['D0', 'C65', 'C6...   \n",
       "17     [['D0', 'C61', 'D0'], ['D0', 'C24', 'C50', 'D0...   \n",
       "19     [['D0', 'C61', 'D0'], ['D0', 'C24', 'C50', 'D0...   \n",
       "26     [['D0', 'C24', 'D0'], ['D0', 'C26', 'C25', 'D0...   \n",
       "32     [['D0', 'C26', 'C25', 'D0'], ['D0', 'C91', 'C6...   \n",
       "...                                                  ...   \n",
       "35369  [['D0', 'C96', 'C67', 'C24', 'D0'], ['D0', 'C5...   \n",
       "35380  [['D0', 'C1', 'C2', 'C5', 'C21', 'C24', 'C29',...   \n",
       "35381  [['D0', 'C1', 'C2', 'C5', 'C14', 'C25', 'C21',...   \n",
       "35385  [['D0', 'C5', 'C2', 'C1', 'C14', 'C25', 'C21',...   \n",
       "35386  [['D0', 'C5', 'C2', 'C1', 'C14', 'C25', 'C21',...   \n",
       "\n",
       "                                                   Moves  \n",
       "3      null, null, GreedyRouteRemoval, GreedyRepairCu...  \n",
       "17     null, null, GreedyRouteRemoval, GreedyRepairCu...  \n",
       "19     RandomDestroyStation, DeterministicBestRepairS...  \n",
       "26     null, null, GreedyRouteRemoval, GreedyRepairCu...  \n",
       "32     null, null, GreedyRouteRemoval, GreedyRepairCu...  \n",
       "...                                                  ...  \n",
       "35369  null, null, GreedyRouteRemoval, GreedyRepairCu...  \n",
       "35380  RandomDestroyStation, DeterministicBestRepairS...  \n",
       "35381  null, null, GreedyRouteRemoval, GreedyRepairCu...  \n",
       "35385  RandomDestroyStation, DeterministicBestRepairS...  \n",
       "35386  null, null, GreedyRouteRemoval, GreedyRepairCu...  \n",
       "\n",
       "[3199 rows x 2 columns]"
      ]
     },
     "execution_count": 4,
     "metadata": {},
     "output_type": "execute_result"
    }
   ],
   "source": [
    "user_input = input(\"Inserisci una stringa: \")\n",
    "data = data.loc[data['Moves'].str.contains(user_input)]\n",
    "data"
   ]
  },
  {
   "cell_type": "markdown",
   "metadata": {},
   "source": [
    "Questi passaggi servono ad isolare i luoghi contenuti nella colonna \"Initial Solution\", in modo da poter costruire una matrice a seconda della mossa pressa in considerazione "
   ]
  },
  {
   "cell_type": "code",
   "execution_count": 5,
   "metadata": {},
   "outputs": [
    {
     "name": "stderr",
     "output_type": "stream",
     "text": [
      "/var/folders/_t/_x_rzsrx5vd2_mn90dgnz43h0000gn/T/ipykernel_75096/162803408.py:15: FutureWarning: The default value of regex will change from True to False in a future version. In addition, single character regular expressions will *not* be treated as literal strings when regex=True.\n",
      "  data[\"Initial Solution\"] = data[\"Initial Solution\"].str.replace(\"[\",\"\")\n",
      "/var/folders/_t/_x_rzsrx5vd2_mn90dgnz43h0000gn/T/ipykernel_75096/162803408.py:16: FutureWarning: The default value of regex will change from True to False in a future version. In addition, single character regular expressions will *not* be treated as literal strings when regex=True.\n",
      "  data[\"Initial Solution\"] = data[\"Initial Solution\"].str.replace(\"]\",\"\")\n"
     ]
    }
   ],
   "source": [
    "init_sol = data['Initial Solution']\n",
    "\n",
    "sol = []\n",
    "for row in init_sol:\n",
    "    for elem in row.split(\"'], \"):\n",
    "        sol.append(elem)\n",
    "        \n",
    "for i in range(len(sol)):\n",
    "    sol[i] = sol[i].replace(\"[['\",\"\")\n",
    "    sol[i] = sol[i].replace(\"']]\",\"\")\n",
    "    sol[i] = sol[i].replace(\"'\",\"\")\n",
    "    sol[i] = sol[i].replace(\",\",\"\")\n",
    "    sol[i] = sol[i].replace(\"[\",\"\")\n",
    "    \n",
    "data[\"Initial Solution\"] = data[\"Initial Solution\"].str.replace(\"[\",\"\")\n",
    "data[\"Initial Solution\"] = data[\"Initial Solution\"].str.replace(\"]\",\"\")\n",
    "data[\"Initial Solution\"] = data[\"Initial Solution\"].str.replace(\",\",\"\")\n",
    "data[\"Initial Solution\"] = data[\"Initial Solution\"].str.replace(\"'\",\"\")\n",
    "\n",
    "init_sol = data[\"Initial Solution\"]\n",
    "\n",
    "places = []\n",
    "for row in init_sol:\n",
    "    for elem in row.split():\n",
    "        places.append(elem)\n",
    "\n",
    "places = np.array(places)\n",
    "distinct_places = np.unique(places)\n"
   ]
  },
  {
   "cell_type": "code",
   "execution_count": 7,
   "metadata": {},
   "outputs": [],
   "source": [
    "# creazione dizionario  \n",
    "dict = {}\n",
    "\n",
    "# creazione dataframe per ogni indice del dizionario, dove l'indice è la lunghezza di \"sol\"\n",
    "for index, elem in enumerate(sol):\n",
    "        zeros = np.zeros([len(distinct_places), len(distinct_places)])\n",
    "        dict[index] = pd.DataFrame(zeros, index=distinct_places, columns=distinct_places)"
   ]
  },
  {
   "cell_type": "code",
   "execution_count": 8,
   "metadata": {},
   "outputs": [],
   "source": [
    "for index, stringa in enumerate(sol):\n",
    "    \n",
    "    temp = stringa\n",
    "    \n",
    "    split = temp.split(\" \")                         \n",
    "    split = np.array(split)\n",
    "    \n",
    "    for i in range(len(split)-1):\n",
    "            dict[index].loc[split[i], split[i+1]] = 1"
   ]
  },
  {
   "cell_type": "code",
   "execution_count": 16,
   "metadata": {},
   "outputs": [
    {
     "data": {
      "text/plain": [
       "81649"
      ]
     },
     "execution_count": 16,
     "metadata": {},
     "output_type": "execute_result"
    }
   ],
   "source": [
    "len(dict)"
   ]
  },
  {
   "cell_type": "code",
   "execution_count": 13,
   "metadata": {},
   "outputs": [],
   "source": [
    "# inizializzo il risultato come il primo dataframe del dizionario\n",
    "df_sum = dict[0]\n",
    "\n",
    "# itero su tutti gli altri dataframe del dizionario\n",
    "for i in range(1, len(dict)):\n",
    "    # sommo il dataframe corrente al risultato\n",
    "    df_sum = df_sum.add(dict[i])\n"
   ]
  },
  {
   "cell_type": "code",
   "execution_count": 15,
   "metadata": {},
   "outputs": [],
   "source": [
    "df_sum.to_csv(user_input)"
   ]
  },
  {
   "cell_type": "code",
   "execution_count": null,
   "metadata": {},
   "outputs": [],
   "source": [
    "for i in range(len(dict)):\n",
    "    dict[i] = dict[i].to_numpy()"
   ]
  },
  {
   "cell_type": "code",
   "execution_count": 15,
   "metadata": {},
   "outputs": [
    {
     "name": "stdout",
     "output_type": "stream",
     "text": [
      "[[  0.   2. 104. ...   3.  15.   0.]\n",
      " [  7.   0.   9. ...  10.  35.   3.]\n",
      " [ 29.   9.   0. ...  19.   7.   0.]\n",
      " ...\n",
      " [  0.   0.   0. ...   1.   9.   0.]\n",
      " [  3.  78.   0. ...   0. 348.   1.]\n",
      " [  0.   0.   0. ...   0.   0.   0.]]\n"
     ]
    }
   ],
   "source": [
    "# Inizializzo una variabile per memorizzare il risultato\n",
    "result = None\n",
    "\n",
    "# Creo un ciclo che iteri sulla lista di matrici\n",
    "for matrix in dict.values():\n",
    "    # Se è il primo ciclo, il risultato è uguale alla prima matrice\n",
    "    if result is None:\n",
    "        result = matrix\n",
    "    # Altrimenti, sommo il risultato con la matrice corrente\n",
    "    else:\n",
    "        result = np.add(result, matrix)\n",
    "\n",
    "# Stampo il risultato\n",
    "print(result)\n"
   ]
  },
  {
   "cell_type": "code",
   "execution_count": null,
   "metadata": {},
   "outputs": [],
   "source": []
  }
 ],
 "metadata": {
  "kernelspec": {
   "display_name": "Python 3.10.6 64-bit",
   "language": "python",
   "name": "python3"
  },
  "language_info": {
   "codemirror_mode": {
    "name": "ipython",
    "version": 3
   },
   "file_extension": ".py",
   "mimetype": "text/x-python",
   "name": "python",
   "nbconvert_exporter": "python",
   "pygments_lexer": "ipython3",
   "version": "3.10.6"
  },
  "orig_nbformat": 4,
  "vscode": {
   "interpreter": {
    "hash": "aee8b7b246df8f9039afb4144a1f6fd8d2ca17a180786b69acc140d282b71a49"
   }
  }
 },
 "nbformat": 4,
 "nbformat_minor": 2
}
